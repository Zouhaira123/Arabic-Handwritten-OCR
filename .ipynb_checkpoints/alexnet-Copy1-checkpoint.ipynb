{
 "cells": [
  {
   "cell_type": "code",
   "execution_count": 1,
   "id": "92614cda-24f0-48e9-b5a8-dfb6d79cc0a9",
   "metadata": {},
   "outputs": [],
   "source": [
    "import numpy as np\n",
    "import tensorflow as tf\n",
    "from tensorflow.keras.models import Sequential\n",
    "from tensorflow.keras.layers import Dense, Activation, Dropout, Flatten, Conv2D, MaxPooling2D\n",
    "from tensorflow.keras.optimizers import Adam\n",
    "from tensorflow.keras.preprocessing.image import ImageDataGenerator\n",
    "from sklearn.metrics import confusion_matrix, accuracy_score\n",
    "import matplotlib.pyplot as plt\n",
    "from keras.models import Sequential\n",
    "from keras.layers import Conv2D, MaxPooling2D, Flatten, Dense, Dropout\n",
    "from keras.optimizers import Adam"
   ]
  },
  {
   "cell_type": "code",
   "execution_count": 2,
   "id": "49103b4a-f225-44c4-b61d-5b6d6ea80dac",
   "metadata": {},
   "outputs": [
    {
     "name": "stdout",
     "output_type": "stream",
     "text": [
      "Found 39299 images belonging to 47 classes.\n",
      "Found 9802 images belonging to 47 classes.\n",
      "Found 20659 images belonging to 47 classes.\n"
     ]
    }
   ],
   "source": [
    "# Définir la taille des images en entrée\n",
    "img_rows, img_cols = 224, 224\n",
    "\n",
    "# Chemins des données d'entraînement et de test\n",
    "train_data_dir = 'C:/Users/rihab/cnn/IFHCDB/Train'\n",
    "test_data_dir = 'C:/Users/rihab/cnn/IFHCDB/Test'\n",
    "\n",
    "# Définition du générateur d'images\n",
    "train_datagen = ImageDataGenerator(\n",
    "    rescale=1. / 255,\n",
    "    shear_range=0.2,\n",
    "    zoom_range=0.2,\n",
    "    horizontal_flip=True,\n",
    "    validation_split=0.2)  # 80% pour l'entraînement, 20% pour la validation\n",
    "\n",
    "test_datagen = ImageDataGenerator(rescale=1. / 255)\n",
    "\n",
    "train_generator = train_datagen.flow_from_directory(\n",
    "    train_data_dir,\n",
    "    target_size=(img_rows, img_cols),\n",
    "    batch_size=128,\n",
    "    class_mode='categorical',\n",
    "    subset='training')\n",
    "\n",
    "validation_generator = train_datagen.flow_from_directory(\n",
    "    train_data_dir,\n",
    "    target_size=(img_rows, img_cols),\n",
    "    batch_size=128,\n",
    "    class_mode='categorical',\n",
    "    subset='validation')\n",
    "\n",
    "test_generator = test_datagen.flow_from_directory(\n",
    "    test_data_dir,\n",
    "    target_size=(img_rows, img_cols),\n",
    "    batch_size=128,\n",
    "    class_mode='categorical',\n",
    "    shuffle=False)"
   ]
  },
  {
   "cell_type": "code",
   "execution_count": 3,
   "id": "ff65ed48-c02a-4489-b88b-dc9d6c399ee6",
   "metadata": {},
   "outputs": [],
   "source": [
    "# Création du modèle AlexNet\n",
    "model = Sequential()\n",
    "\n",
    "# Première couche de convolution\n",
    "model.add(Conv2D(96, (11, 11), input_shape=(img_rows, img_cols, 3), padding='same'))\n",
    "model.add(Activation('relu'))\n",
    "model.add(MaxPooling2D(pool_size=(2, 2)))\n",
    "\n",
    "# Deuxième couche de convolution\n",
    "model.add(Conv2D(256, (5, 5), padding='same'))\n",
    "model.add(Activation('relu'))\n",
    "model.add(MaxPooling2D(pool_size=(2, 2)))\n",
    "\n",
    "# Troisième couche de convolution\n",
    "model.add(Conv2D(384, (3, 3), padding='same'))\n",
    "model.add(Activation('relu'))\n",
    "\n",
    "# Quatrième couche de convolution\n",
    "model.add(Conv2D(384, (3, 3), padding='same'))\n",
    "model.add(Activation('relu'))\n",
    "\n",
    "# Cinquième couche de convolution\n",
    "model.add(Conv2D(256, (3, 3), padding='same'))\n",
    "model.add(Activation('relu'))\n",
    "model.add(MaxPooling2D(pool_size=(2, 2)))\n",
    "\n",
    "# Couche de flatten\n",
    "model.add(Flatten())\n",
    "\n",
    "# Première couche fully connected\n",
    "model.add(Dense(4096))\n",
    "model.add(Activation('relu'))\n",
    "model.add(Dropout(0.5))\n",
    "\n",
    "# Deuxième couche fully connected\n",
    "model.add(Dense(4096))\n",
    "model.add(Activation('relu'))\n",
    "model.add(Dropout(0.5))\n",
    "\n",
    "# Couche de sortie\n",
    "model.add(Dense(47))  # Nombre de classes\n",
    "model.add(Activation('softmax'))\n",
    "\n",
    "# Compiler le modèle\n",
    "model.compile(loss='categorical_crossentropy',\n",
    "              optimizer=Adam(learning_rate=0.0001),\n",
    "              metrics=['accuracy'])"
   ]
  },
  {
   "cell_type": "code",
   "execution_count": null,
   "id": "adcf74ac-adb4-4f77-a344-6ef135a40008",
   "metadata": {},
   "outputs": [],
   "source": [
    "batch_size=32\n",
    "# Définir le nombre d'étapes par époque\n",
    "train_steps_per_epoch = train_generator.samples // train_generator.batch_size\n",
    "val_steps_per_epoch = validation_generator.samples // validation_generator.batch_size\n",
    "\n",
    "# Entraîner le modèle\n",
    "history = model.fit(\n",
    "    train_generator,\n",
    "    steps_per_epoch=train_steps_per_epoch,\n",
    "    epochs=5,  # Nombre d'époques\n",
    "    validation_data=validation_generator,\n",
    "    validation_steps=val_steps_per_epoch\n",
    ")"
   ]
  },
  {
   "cell_type": "code",
   "execution_count": null,
   "id": "b6a805f3-5d0e-4b67-afd3-0410a306c807",
   "metadata": {},
   "outputs": [],
   "source": []
  },
  {
   "cell_type": "code",
   "execution_count": null,
   "id": "156953db-1290-4192-ab00-c55aef65bd7f",
   "metadata": {},
   "outputs": [],
   "source": []
  }
 ],
 "metadata": {
  "kernelspec": {
   "display_name": "Python 3 (ipykernel)",
   "language": "python",
   "name": "python3"
  },
  "language_info": {
   "codemirror_mode": {
    "name": "ipython",
    "version": 3
   },
   "file_extension": ".py",
   "mimetype": "text/x-python",
   "name": "python",
   "nbconvert_exporter": "python",
   "pygments_lexer": "ipython3",
   "version": "3.9.18"
  }
 },
 "nbformat": 4,
 "nbformat_minor": 5
}
