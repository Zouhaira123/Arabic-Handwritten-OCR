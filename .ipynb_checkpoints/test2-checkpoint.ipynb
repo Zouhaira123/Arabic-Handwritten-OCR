{
 "cells": [
  {
   "cell_type": "code",
   "execution_count": 14,
   "id": "2f628127-e308-4ff1-adf3-273ddced8c3f",
   "metadata": {},
   "outputs": [],
   "source": [
    "import tensorflow as tf\n",
    "from tensorflow.keras.preprocessing.image import ImageDataGenerator\n",
    "from tensorflow.keras.preprocessing import image\n",
    "import matplotlib.pyplot as plt\n",
    "import numpy as np\n"
   ]
  },
  {
   "cell_type": "code",
   "execution_count": 9,
   "id": "9874335b-c080-4cce-97a3-639c7377fc2a",
   "metadata": {},
   "outputs": [
    {
     "name": "stdout",
     "output_type": "stream",
     "text": [
      "Found 49101 images belonging to 47 classes.\n"
     ]
    }
   ],
   "source": [
    "class_labels = {f'class{i}': i - 1 for i in range(1, 48)}\n",
    "img_rows, img_cols = 32, 32\n",
    "img_channels = 3\n",
    "nb_classes = len(class_labels.keys())\n",
    "\n",
    "datagen = ImageDataGenerator()\n",
    "data = datagen.flow_from_directory('C:/Users/rihab/Downloads/IFHCDB/Train',\n",
    "                                   target_size=(32, 32),\n",
    "                                   batch_size=128,  # Adjust batch size as needed\n",
    "                                   class_mode='categorical',\n",
    "                                   shuffle=True)\n"
   ]
  },
  {
   "cell_type": "code",
   "execution_count": 10,
   "id": "393ed14d-febe-4315-b56f-b9deb779fc56",
   "metadata": {},
   "outputs": [],
   "source": [
    "img = image.load_img('C:/Users/rihab/Downloads/IFHCDB/Train/Class1/tr001000003.bmp')"
   ]
  },
  {
   "cell_type": "code",
   "execution_count": 11,
   "id": "21b47deb-6701-4e89-8be6-e485073759e4",
   "metadata": {},
   "outputs": [
    {
     "data": {
      "text/plain": [
       "<matplotlib.image.AxesImage at 0x10f3aa04160>"
      ]
     },
     "execution_count": 11,
     "metadata": {},
     "output_type": "execute_result"
    },
    {
     "data": {
      "image/png": "[encoded data removed]",
      "text/plain": [
       "<Figure size 640x480 with 1 Axes>"
      ]
     },
     "metadata": {},
     "output_type": "display_data"
    }
   ],
   "source": [
    "plt.imshow(img)"
   ]
  },
  {
   "cell_type": "code",
   "execution_count": 12,
   "id": "d06272f8-bd54-43f9-a319-a01e34496571",
   "metadata": {},
   "outputs": [
    {
     "ename": "NameError",
     "evalue": "name 'cv2' is not defined",
     "output_type": "error",
     "traceback": [
      "\u001b[1;31m---------------------------------------------------------------------------\u001b[0m",
      "\u001b[1;31mNameError\u001b[0m                                 Traceback (most recent call last)",
      "Cell \u001b[1;32mIn[12], line 1\u001b[0m\n\u001b[1;32m----> 1\u001b[0m \u001b[43mcv2\u001b[49m\u001b[38;5;241m.\u001b[39mimread(\u001b[38;5;124m'\u001b[39m\u001b[38;5;124mC:/Users/rihab/Downloads/IFHCDB/Train/Class1/tr001000003.bmp\u001b[39m\u001b[38;5;124m'\u001b[39m)\n",
      "\u001b[1;31mNameError\u001b[0m: name 'cv2' is not defined"
     ]
    }
   ],
   "source": [
    "cv2.imread('C:/Users/rihab/Downloads/IFHCDB/Train/Class1/tr001000003.bmp')"
   ]
  },
  {
   "cell_type": "code",
   "execution_count": null,
   "id": "5550ef87-c76c-4b26-aa10-4f56abce3d97",
   "metadata": {},
   "outputs": [],
   "source": []
  },
  {
   "cell_type": "code",
   "execution_count": null,
   "id": "ea80f99d-aac7-4c47-b78e-39a7daa60e14",
   "metadata": {},
   "outputs": [],
   "source": []
  }
 ],
 "metadata": {
  "kernelspec": {
   "display_name": "Python 3 (ipykernel)",
   "language": "python",
   "name": "python3"
  },
  "language_info": {
   "codemirror_mode": {
    "name": "ipython",
    "version": 3
   },
   "file_extension": ".py",
   "mimetype": "text/x-python",
   "name": "python",
   "nbconvert_exporter": "python",
   "pygments_lexer": "ipython3",
   "version": "3.9.18"
  }
 },
 "nbformat": 4,
 "nbformat_minor": 5
}
